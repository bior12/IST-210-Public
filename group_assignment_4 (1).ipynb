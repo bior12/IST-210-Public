{
  "nbformat": 4,
  "nbformat_minor": 0,
  "metadata": {
    "colab": {
      "name": "group assignment 4.ipynb",
      "provenance": [],
      "collapsed_sections": []
    },
    "kernelspec": {
      "name": "python3",
      "display_name": "Python 3"
    }
  },
  "cells": [
    {
      "cell_type": "markdown",
      "metadata": {
        "id": "-VX-yNcbEMjE",
        "colab_type": "text"
      },
      "source": [
        "In this assignment, you will be using your new knowledge in regards to creating an SQLlite database, creating tables, and inserting data into the database. Using your ER Diagrams from your group project. \n",
        "\n",
        "Here is what you need to accomplish:\n",
        "\n",
        "You will be using a Google Colab to create your final output. \n",
        "\n",
        "- Take your ER Diagram and make sure that it adheres to the 1st Normal Form. \n",
        "\n",
        "- Create a database for your project (I encourage students to copy the Python scripts from our previous notebooks). \n",
        "\n",
        "- Create x number of tables in your database. \n",
        "\n",
        "- Populate at least 5 rows of data (you can manually just insert 5 rows of data and the data can be made up) \n",
        "\n",
        "- After this is done, did you need to change your ER diagram at all? If so, update the ER Diagram and post it in the notebook. \n",
        "\n",
        "- With your database, you will propose 3 questions that you would like to answer with your database. Then include the correct SQL query to get these results. Example:\n",
        "\n",
        "What days (top 3) did we have the most snow?\n",
        "\n",
        "SELECT date,snow FROM stateCollege ORDER BY snow DESC LIMIT 3;\n",
        "\n",
        "('11/16/2018', 11.5)\n",
        "\n",
        "('1/20/2019', 7.0)\n",
        "\n",
        "('3/14/2017', 6.3)\n",
        "\n",
        "Add at least 50 words on why this question was important and did the results match up to your expectations? \n",
        "\n",
        "Save the Jupyter Notebook (as a .IPYNB), and uploaded it to GitHub.\n",
        "\n",
        "After uploading to GitHub, go to NBViewer (https://nbviewer.jupyter.org/ (Links to an external site.)) and create a link to your GitHub (Jupyter Notebook) and \"turn-in\" the URL. \n",
        "\n"
      ]
    },
    {
      "cell_type": "code",
      "metadata": {
        "id": "ou1g6uxoGAnC",
        "colab_type": "code",
        "outputId": "5096e4c9-da1b-418c-99c6-e6b14e7ced66",
        "colab": {
          "base_uri": "https://localhost:8080/",
          "height": 34
        }
      },
      "source": [
        "import random, sqlite3\n",
        "\n",
        "connectionToDatabase = sqlite3.connect('airport')\n",
        "cursor = connectionToDatabase.cursor()\n",
        "\n",
        "tables = [\"Planes\", \"Checkbook\", \"Airport\", \"Pilot\", \"Airlines\", \"operationalHours\", \"Lanes\", \"flightAttendant\", \"Customers\", \"Janitor\", \"flightPaths\"]\n",
        "attributes = [(\"planeID int PRIMARY KEY\",\"Seats int\",\"Size int\",\"Meal_Plan text\",\"Max_Altitude int\",\"Plane_Type text\",\"Fuel_Capacity int\",\"airlineID int\"), \n",
        "               (\"monthAndYear text PRIMARY KEY\", \"Revenue int\",\"Salary int\",\"Profit int\"),\n",
        "               (\"airportID int PRIMARY KEY\",\"laneID int \",\"Date text\"),\n",
        "               (\"employeeID int PRIMARY KEY\",\"Salary int\",\"Job text\",\"Name text\",\"Years_Worked int\",\"Hours_Per_Week int\",\"Age int\",\"Access_Level int\",\"planeID int\",\"airlineID int\"),\n",
        "               (\"airlineID int PRIMARY KEY\",\"Lanes_Number int\",\"Number_Of_Flights int\",\"Number_Of_Customers int\"),\n",
        "               (\"date text PRIMARY KEY\",\"Holiday int\",\"Open_Hours int\",\"Closing_Time int\",\"Week_Days int\"),\n",
        "               (\"laneID int PRIMARY KEY\",\"Plane_Type text\",\"Slot_Number int\",\"Position int\"),\n",
        "               (\"employeeID int PRIMARY KEY\",\"Salary int\",\"Job text\",\"Name text\",\"Years_Worked int\",\"Hours_Per_Week int\",\"Age int\",\"Access_Level int\",\"planeID int\",\"airlineID int\"),\n",
        "               (\"customersID int PRIMARY KEY\",\"First_Name text\",\"Seat_Number int\",\"Class text\",\"planeID int\",\"airlineID int\"),\n",
        "               (\"employeeID int PRIMARY KEY\",\"Salary int\",\"Job text\",\"Name text\",\"Years_Worked int\",\"Hours_Per_Week int\",\"Age int\",\"Access_Level int\",\"airportID int\"),\n",
        "               (\"pathID int PRIMARY KEY\",\"Start_Location text\",\"End_Location text\",\"Duration int\",\"Altitude int\",\"planeID int\",\"Overseas int\")]\n",
        "\n",
        "\n",
        "def tupleToStr(y):\n",
        "    def createStr(string, idx):\n",
        "        if(idx == len(y)):\n",
        "            return string + \")\"\n",
        "        if(idx == 0):\n",
        "            return createStr(string + y[idx], idx + 1)\n",
        "        return createStr(string + \", \" + y[idx], idx + 1)\n",
        "    return createStr(\"(\", 0)\n",
        "\n",
        "def get_name():\n",
        "    Namelist = ['Darlene Randazzo', 'Su Hawkinson', 'Mae Ashworth', 'Kevin Chavira', 'Lai Zeng',\n",
        "                'Carisa Belden', 'Rhea Almaguer', 'Emilio Lacoste', 'Shyla Vosburg', 'Nellie Wilke',\n",
        "                'Thomasina Lozano', 'Gilbert Zuckerman', 'Elisha Mcelrath', 'Kelle Liggins', 'Lekisha Stoute',\n",
        "                'Erminia Keough', 'Benita Trent', 'Flor Demasi', 'Jacquelyne Voisin', 'Timmy Maggart', 'Bryan Pfeiffer',\n",
        "                'Tonita Dunnigan', 'Marcelina Heyden', 'Laree Lyford', 'Viviana Nowell', 'Prudence Schildgen', 'Marcelino Paff',\n",
        "                'Margene Ferry', 'Garland Marth', 'Mammie Zamora']\n",
        "    choose = random.randint(0, 29)\n",
        "    return(Namelist[choose])\n",
        "\n",
        "\n",
        "def generateAttributes(y, i):\n",
        "    def gen(attr):\n",
        "        if(\"ID\" in attr):\n",
        "            return i\n",
        "        elif(attr == \"Salary int\"):\n",
        "            return random.randint(10000,1000000)\n",
        "        elif(attr == \"Job text\"):\n",
        "            return \"'\" + random.choice([\"Senior worker\", \"Assistant worker\", \"Associate worker\"]) + \"'\"\n",
        "        elif(attr == \"First_Name text\"):\n",
        "            return \"'\" + get_name() + \"'\"\n",
        "        elif(attr == \"Name text\"):\n",
        "            return \"'\" + get_name() + \"'\"\n",
        "        elif(attr == \"Hours_Per_Week int\"):\n",
        "            return random.randint(20,40)\n",
        "        elif(attr == \"Age int\"):\n",
        "            return random.randint(22,50)\n",
        "        elif(attr == \"Years_Worked int\"):\n",
        "            return random.randint(1,10)\n",
        "        elif(attr == \"Access_Level int\"):\n",
        "            return random.randint(1,3)\n",
        "        elif(attr == \"Seats int\"):\n",
        "            return random.randint(10, 500) * 100\n",
        "        elif(attr == \"Size int\"):\n",
        "            return random.randint(10,200) * 1000\n",
        "        elif(attr == \"Meal_Plan text\"):\n",
        "            return \"'\" + random.choice([\"Fast food\", \"Vegan\", \"Seafood\"]) + \"'\"\n",
        "        elif(attr == \"Plane_Type text\"):\n",
        "            return \"'\" + random.choice([\"Boeing 747\", \"Boeing 646\", \"Boeing 565\"]) + \"'\"\n",
        "        elif(attr == \"Fuel_Capacity int\"):\n",
        "            return random.randint(100,1200) * 1000\n",
        "        elif(attr == \"Revenue int\"):\n",
        "            return random.randint(100,1000) * 10000\n",
        "        elif(attr == \"Profit int\"):\n",
        "            return random.randint(100,500) * 100\n",
        "        elif(attr == \"Date text\"):\n",
        "            if(i == 1):\n",
        "                return \"'Jan 1, 1998'\"\n",
        "            elif(i == 2):\n",
        "                return \"'Jan 9, 1999'\"\n",
        "            elif(i == 3):\n",
        "                return \"'Feb 8, 2000'\"\n",
        "            elif(i == 4):\n",
        "                return \"'March 1, 2002'\"\n",
        "            elif(i == 5):\n",
        "                return \"'Dec 1, 2002'\"\n",
        "        elif(attr == \"date text PRIMARY KEY\"):\n",
        "            if(i == 1):\n",
        "                return \"'Jan 1, 1998'\"\n",
        "            elif(i == 2):\n",
        "                return \"'Jan 9, 1999'\"\n",
        "            elif(i == 3):\n",
        "                return \"'Feb 8, 2000'\"\n",
        "            elif(i == 4):\n",
        "                return \"'March 1, 2002'\"\n",
        "            elif(i == 5):\n",
        "                return \"'Dec 1, 2002'\"\n",
        "        elif(attr == \"Holiday int\"):\n",
        "            return random.randint(0,1)\n",
        "        elif(attr == \"Week_Days int\"):\n",
        "            return random.randint(0,1)\n",
        "        elif(attr == \"Open_Hours int\"):\n",
        "            return random.randint(6, 9)\n",
        "        elif(attr == \"Closing_Time int\"):\n",
        "            return random.randint(22, 23)\n",
        "        elif(attr == \"Slot_Number int\"):\n",
        "            return random.randint(1, 200)\n",
        "        elif(attr == \"Position int\"):\n",
        "            return random.randint(1, 200)\n",
        "        elif(attr == \"Seat_Number int\"):\n",
        "            return str(random.randint(1, 200))\n",
        "        elif(attr == \"Class text\"):\n",
        "            return \"'\" + random.choice([\"First Class\", \"Business\", \"Economy\"]) + \"'\"\n",
        "        elif(attr == \"Start_Location text\"):\n",
        "            return \"'\" + \"Our Airport City\" + \"'\"\n",
        "        elif(attr == \"End_Location text\"):\n",
        "            return \"'\" + random.choice([\"Paris\", \"London\", \"New York\", \"Dallas\"]) + \"'\"\n",
        "        elif(attr == \"Duration int\"):\n",
        "            return random.randint(5,12)\n",
        "        elif(attr == \"Altitude int\"):\n",
        "            return random.randint(10000, 25000)\n",
        "        elif(attr == \"Overseas int\"):\n",
        "            return 1\n",
        "        elif(attr == \"monthAndYear text PRIMARY KEY\"):\n",
        "            return \"'\" + random.randint(1,12).__str__() + \"/\" + random.randint(1970, 2019).__str__() + \"'\"\n",
        "        elif(attr == \"Max_Altitude int\"):\n",
        "            return random.randint(10000, 25000)\n",
        "        elif(attr == \"Number_Of_Flights int\"):\n",
        "            return random.randint(100, 250)\n",
        "        elif(attr == \"Number_Of_Customers int\"):\n",
        "            return random.randint(10000, 50000)\n",
        "        elif(attr == \"Lanes_Number int\"):\n",
        "            return random.randint(2, 15)\n",
        "        \n",
        "    def createStr(string, idx):\n",
        "        if(idx == len(y)):\n",
        "            return string + \")\"\n",
        "        if(gen(y[idx]) is None):\n",
        "            print(y[idx])\n",
        "        if(idx == 0):\n",
        "            return createStr(string + str(gen(y[idx])), idx + 1)\n",
        "        return createStr(string + \",\" + str(gen(y[idx])), idx + 1)\n",
        "    \n",
        "    string = \"(\"\n",
        "    return createStr(string, 0)\n",
        "\n",
        "createTablesList = list(map(lambda x, y: \"'''create table IF NOT EXISTS \"+ x +\" \"+ tupleToStr(y) + \" '''\", tables, attributes))\n",
        "\n",
        "genAttributesList = sum(\n",
        "    [list(map(lambda x, y: \"'''insert into \"+x+\" values \"+generateAttributes(y, 1)+\"'''\", tables, attributes)),\n",
        "    list(map(lambda x, y: \"'''insert into \"+x+\" values \"+generateAttributes(y, 2)+\"'''\", tables, attributes)),\n",
        "    list(map(lambda x, y: \"'''insert into \"+x+\" values \"+generateAttributes(y, 3)+\"'''\", tables, attributes)),\n",
        "    list(map(lambda x, y: \"'''insert into \"+x+\" values \"+generateAttributes(y, 4)+\"'''\", tables, attributes)),\n",
        "    list(map(lambda x, y: \"'''insert into \"+x+\" values \"+generateAttributes(y, 5)+\"'''\", tables, attributes))],\n",
        "    [])\n",
        "\n",
        "list(map(lambda x: cursor.execute(eval(x)), createTablesList))\n",
        "list(map(lambda x: cursor.execute(eval(x)), genAttributesList))\n",
        "print()"
      ],
      "execution_count": 98,
      "outputs": [
        {
          "output_type": "stream",
          "text": [
            "\n"
          ],
          "name": "stdout"
        }
      ]
    },
    {
      "cell_type": "markdown",
      "metadata": {
        "id": "xvzL9BlLf9SY",
        "colab_type": "text"
      },
      "source": [
        "All results were from our randomly generated values\n",
        "\n",
        "**What are the names of the Janitors who have access level 1?**\n",
        " \n",
        "SELECT Access_Level, Name FROM Janitor where Access_Level = 1;\n",
        "\n",
        "simple print(cursor.fetchall()) example:\n",
        "\n",
        "[(1, 'Gilbert Zuckerman'), (1, 'Erminia Keough'), (1, 'Carisa Belden')]\n",
        " \n",
        "\n"
      ]
    },
    {
      "cell_type": "code",
      "metadata": {
        "id": "MGVTfOzjBsst",
        "colab_type": "code",
        "outputId": "2deb9efd-8800-4628-9ab2-79c2df5841d6",
        "colab": {
          "base_uri": "https://localhost:8080/",
          "height": 67
        }
      },
      "source": [
        "cursor.execute(\"SELECT Access_Level, Name FROM Janitor where Access_Level = 1;\")\n",
        "parray=[]\n",
        "for x in cursor.fetchall():\n",
        "  parray.append(x)\n",
        "print('array of employees = {}\\n'.format(parray))\n",
        "\n",
        "if len(parray)==0:\n",
        "  print('No one has access level 1.')\n",
        "  \n",
        "if len(parray)>1:\n",
        "  cou=len(parray)-1\n",
        "  for x in parray:\n",
        "    if cou>1:\n",
        "      print('{}, '.format(x[1]),end='')\n",
        "    else:\n",
        "      print('{} '.format(x[1]),end='')\n",
        "      break\n",
        "    cou-=1\n",
        "  print('and {} all have access level {}'.format(parray[len(parray)-1][1],parray[len(parray)-1][0]))\n",
        "\n",
        "elif len(parray)==1:\n",
        "  print('{} has access level {}'.format(parray[0][1],parray[0][0]))"
      ],
      "execution_count": 99,
      "outputs": [
        {
          "output_type": "stream",
          "text": [
            "array of employees = [(1, 'Elisha Mcelrath'), (1, 'Jacquelyne Voisin'), (1, 'Prudence Schildgen'), (1, 'Garland Marth')]\n",
            "\n",
            "Elisha Mcelrath, Jacquelyne Voisin, Prudence Schildgen and Garland Marth all have access level 1\n"
          ],
          "name": "stdout"
        }
      ]
    },
    {
      "cell_type": "markdown",
      "metadata": {
        "id": "P0AjzYLiBx3L",
        "colab_type": "text"
      },
      "source": [
        "This would be important to know because then, if there was a breach of security of a level one area, we would be able to access the names of the employees who have access to that area.\n",
        "\n",
        "The values that were returned from this SQL query definitely match our expectations for the data that we inserted into our tables."
      ]
    },
    {
      "cell_type": "markdown",
      "metadata": {
        "id": "hEGgJcfKDG4Y",
        "colab_type": "text"
      },
      "source": [
        " **How many customer names start with the letter M?**\n",
        " \n",
        "SELECT COUNT(First_Name) FROM Customers WHERE First_Name LIKE 'M%';\n",
        "\n",
        "\n",
        "simple print(cursor.fetchall()) example:\n",
        "\n",
        "[(1,)]"
      ]
    },
    {
      "cell_type": "code",
      "metadata": {
        "id": "6RZrU4jsCGQs",
        "colab_type": "code",
        "outputId": "87481db8-ea69-4154-b0ac-0cc30bd22fcd",
        "colab": {
          "base_uri": "https://localhost:8080/",
          "height": 50
        }
      },
      "source": [
        "cursor.execute(\"SELECT COUNT(First_Name) FROM Customers WHERE First_Name LIKE 'M%';\")\n",
        "count = cursor.fetchall()\n",
        "print('There are {} people whos first name start with the letter M'.format(count[0][0]))"
      ],
      "execution_count": 104,
      "outputs": [
        {
          "output_type": "stream",
          "text": [
            "count array = [(2,)]\n",
            "There are 2 people whos first name start with the letter M\n"
          ],
          "name": "stdout"
        }
      ]
    },
    {
      "cell_type": "markdown",
      "metadata": {
        "id": "45B7gGssCR_e",
        "colab_type": "text"
      },
      "source": [
        "We count the number of customers names that start with the letter M to sample a small portion of the customers. We can use this small sample to ask surveys or perform details statistics and generalize about our overall population.\n",
        " \n",
        "The values that were returned from this SQL query definitely match our expectations for the data that we inserted into our tables.\n"
      ]
    },
    {
      "cell_type": "markdown",
      "metadata": {
        "id": "Ej7wquQlDBzv",
        "colab_type": "text"
      },
      "source": [
        " \n",
        "**Which 3 airlines have the most number of lanes?**\n",
        " \n",
        "SELECT airlineID, Lanes_Number FROM Airlines ORDER BY Lanes_Number DESC LIMIT 3;\n",
        "(airlineID, number of lanes)\n",
        "\n",
        "simple print(cursor.fetchall()) example:\n",
        "\n",
        "(airlineID, number of lanes)\n",
        "\n",
        "[(1, 9), (2, 6), (5, 5)]"
      ]
    },
    {
      "cell_type": "code",
      "metadata": {
        "id": "zX-6aBZPCXJ6",
        "colab_type": "code",
        "outputId": "e95faa5c-e008-4e1f-b1ac-757a53ab94bd",
        "colab": {
          "base_uri": "https://localhost:8080/",
          "height": 84
        }
      },
      "source": [
        "def numbertypes(coun):\n",
        "    numdict = {1:\"first\",2:\"second\",3:\"third\",4:\"forth\",5:\"fifth\"}\n",
        "    return numdict[coun]\n",
        "cursor.execute(\"SELECT airlineID, Lanes_Number FROM Airlines ORDER BY Lanes_Number DESC LIMIT 3;\")\n",
        "aarray=[]\n",
        "for x in cursor.fetchall():\n",
        "  aarray.append(x)\n",
        "print('The top three ailines with the most lanes are:')\n",
        "cou=0\n",
        "for x in aarray:\n",
        "  print('{}: AirlineID {}, with {} lanes'.format(numbertypes(cou+1),x[0],x[1]))\n",
        "  cou+=1"
      ],
      "execution_count": 109,
      "outputs": [
        {
          "output_type": "stream",
          "text": [
            "The top three ailines with the most lanes are:\n",
            "first: AirlineID 5, with 15 lanes\n",
            "second: AirlineID 1, with 12 lanes\n",
            "third: AirlineID 2, with 9 lanes\n"
          ],
          "name": "stdout"
        }
      ]
    },
    {
      "cell_type": "markdown",
      "metadata": {
        "id": "W6M1QeCVCXtP",
        "colab_type": "text"
      },
      "source": [
        " The airline with the most number of lanes should be the busiest airlines. They should have the most number of flights and are likely to generate the most profits.\n",
        " \n",
        "The values that were returned from this SQL query definitely match our expectations for the data that we inserted into our tables."
      ]
    }
  ]
}